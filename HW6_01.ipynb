{
 "cells": [
  {
   "cell_type": "code",
   "execution_count": 1,
   "id": "ecbd8974-5152-4982-809e-ffa98f90197b",
   "metadata": {},
   "outputs": [],
   "source": [
    "import sklearn\n",
    "import os\n",
    "import numpy as np\n",
    "import pandas as pd\n",
    "import matplotlib.pyplot as plt\n",
    "import seaborn as sns\n",
    "import sklearn"
   ]
  },
  {
   "cell_type": "code",
   "execution_count": 5,
   "id": "5cf09d60-2299-4668-be1e-d6954d703bdf",
   "metadata": {},
   "outputs": [],
   "source": [
    "def hypotes(X,w):\n",
    "    return np.dot(X,w)"
   ]
  },
  {
   "cell_type": "code",
   "execution_count": 7,
   "id": "58a25256-9f74-48a0-9a66-36eba4f07e6d",
   "metadata": {},
   "outputs": [],
   "source": [
    "def loss_func(X,y,w):\n",
    "    return np.square(hypotes(X,w)-y).sum()/2*X.size()"
   ]
  },
  {
   "cell_type": "code",
   "execution_count": 9,
   "id": "29da69d9-b398-4a6a-9204-64ebc7c1aac2",
   "metadata": {},
   "outputs": [],
   "source": [
    "def gradient_step(X,y,w,learn_rate):\n",
    "    m=len(y)\n",
    "    grad = (X.T @ (hypotes(X,w)-y))/m\n",
    "    w-=learn_rate*grad\n",
    "    return w"
   ]
  },
  {
   "cell_type": "code",
   "execution_count": 55,
   "id": "bb7d4786-d94e-4057-91fe-cdbf448b2269",
   "metadata": {},
   "outputs": [],
   "source": [
    "df = pd.read_csv(\"./Housing.csv\")"
   ]
  },
  {
   "cell_type": "code",
   "execution_count": 57,
   "id": "7e606120-59c7-468f-b759-ce98b6a2f81e",
   "metadata": {},
   "outputs": [
    {
     "name": "stdout",
     "output_type": "stream",
     "text": [
      "<class 'pandas.core.frame.DataFrame'>\n",
      "RangeIndex: 545 entries, 0 to 544\n",
      "Data columns (total 13 columns):\n",
      " #   Column            Non-Null Count  Dtype \n",
      "---  ------            --------------  ----- \n",
      " 0   price             545 non-null    int64 \n",
      " 1   area              545 non-null    int64 \n",
      " 2   bedrooms          545 non-null    int64 \n",
      " 3   bathrooms         545 non-null    int64 \n",
      " 4   stories           545 non-null    int64 \n",
      " 5   mainroad          545 non-null    object\n",
      " 6   guestroom         545 non-null    object\n",
      " 7   basement          545 non-null    object\n",
      " 8   hotwaterheating   545 non-null    object\n",
      " 9   airconditioning   545 non-null    object\n",
      " 10  parking           545 non-null    int64 \n",
      " 11  prefarea          545 non-null    object\n",
      " 12  furnishingstatus  545 non-null    object\n",
      "dtypes: int64(6), object(7)\n",
      "memory usage: 55.5+ KB\n"
     ]
    },
    {
     "data": {
      "text/html": [
       "<div>\n",
       "<style scoped>\n",
       "    .dataframe tbody tr th:only-of-type {\n",
       "        vertical-align: middle;\n",
       "    }\n",
       "\n",
       "    .dataframe tbody tr th {\n",
       "        vertical-align: top;\n",
       "    }\n",
       "\n",
       "    .dataframe thead th {\n",
       "        text-align: right;\n",
       "    }\n",
       "</style>\n",
       "<table border=\"1\" class=\"dataframe\">\n",
       "  <thead>\n",
       "    <tr style=\"text-align: right;\">\n",
       "      <th></th>\n",
       "      <th>price</th>\n",
       "      <th>area</th>\n",
       "      <th>bedrooms</th>\n",
       "      <th>bathrooms</th>\n",
       "      <th>stories</th>\n",
       "      <th>mainroad</th>\n",
       "      <th>guestroom</th>\n",
       "      <th>basement</th>\n",
       "      <th>hotwaterheating</th>\n",
       "      <th>airconditioning</th>\n",
       "      <th>parking</th>\n",
       "      <th>prefarea</th>\n",
       "      <th>furnishingstatus</th>\n",
       "    </tr>\n",
       "  </thead>\n",
       "  <tbody>\n",
       "    <tr>\n",
       "      <th>0</th>\n",
       "      <td>13300000</td>\n",
       "      <td>7420</td>\n",
       "      <td>4</td>\n",
       "      <td>2</td>\n",
       "      <td>3</td>\n",
       "      <td>yes</td>\n",
       "      <td>no</td>\n",
       "      <td>no</td>\n",
       "      <td>no</td>\n",
       "      <td>yes</td>\n",
       "      <td>2</td>\n",
       "      <td>yes</td>\n",
       "      <td>furnished</td>\n",
       "    </tr>\n",
       "    <tr>\n",
       "      <th>1</th>\n",
       "      <td>12250000</td>\n",
       "      <td>8960</td>\n",
       "      <td>4</td>\n",
       "      <td>4</td>\n",
       "      <td>4</td>\n",
       "      <td>yes</td>\n",
       "      <td>no</td>\n",
       "      <td>no</td>\n",
       "      <td>no</td>\n",
       "      <td>yes</td>\n",
       "      <td>3</td>\n",
       "      <td>no</td>\n",
       "      <td>furnished</td>\n",
       "    </tr>\n",
       "    <tr>\n",
       "      <th>2</th>\n",
       "      <td>12250000</td>\n",
       "      <td>9960</td>\n",
       "      <td>3</td>\n",
       "      <td>2</td>\n",
       "      <td>2</td>\n",
       "      <td>yes</td>\n",
       "      <td>no</td>\n",
       "      <td>yes</td>\n",
       "      <td>no</td>\n",
       "      <td>no</td>\n",
       "      <td>2</td>\n",
       "      <td>yes</td>\n",
       "      <td>semi-furnished</td>\n",
       "    </tr>\n",
       "    <tr>\n",
       "      <th>3</th>\n",
       "      <td>12215000</td>\n",
       "      <td>7500</td>\n",
       "      <td>4</td>\n",
       "      <td>2</td>\n",
       "      <td>2</td>\n",
       "      <td>yes</td>\n",
       "      <td>no</td>\n",
       "      <td>yes</td>\n",
       "      <td>no</td>\n",
       "      <td>yes</td>\n",
       "      <td>3</td>\n",
       "      <td>yes</td>\n",
       "      <td>furnished</td>\n",
       "    </tr>\n",
       "    <tr>\n",
       "      <th>4</th>\n",
       "      <td>11410000</td>\n",
       "      <td>7420</td>\n",
       "      <td>4</td>\n",
       "      <td>1</td>\n",
       "      <td>2</td>\n",
       "      <td>yes</td>\n",
       "      <td>yes</td>\n",
       "      <td>yes</td>\n",
       "      <td>no</td>\n",
       "      <td>yes</td>\n",
       "      <td>2</td>\n",
       "      <td>no</td>\n",
       "      <td>furnished</td>\n",
       "    </tr>\n",
       "    <tr>\n",
       "      <th>5</th>\n",
       "      <td>10850000</td>\n",
       "      <td>7500</td>\n",
       "      <td>3</td>\n",
       "      <td>3</td>\n",
       "      <td>1</td>\n",
       "      <td>yes</td>\n",
       "      <td>no</td>\n",
       "      <td>yes</td>\n",
       "      <td>no</td>\n",
       "      <td>yes</td>\n",
       "      <td>2</td>\n",
       "      <td>yes</td>\n",
       "      <td>semi-furnished</td>\n",
       "    </tr>\n",
       "  </tbody>\n",
       "</table>\n",
       "</div>"
      ],
      "text/plain": [
       "      price  area  bedrooms  bathrooms  stories mainroad guestroom basement  \\\n",
       "0  13300000  7420         4          2        3      yes        no       no   \n",
       "1  12250000  8960         4          4        4      yes        no       no   \n",
       "2  12250000  9960         3          2        2      yes        no      yes   \n",
       "3  12215000  7500         4          2        2      yes        no      yes   \n",
       "4  11410000  7420         4          1        2      yes       yes      yes   \n",
       "5  10850000  7500         3          3        1      yes        no      yes   \n",
       "\n",
       "  hotwaterheating airconditioning  parking prefarea furnishingstatus  \n",
       "0              no             yes        2      yes        furnished  \n",
       "1              no             yes        3       no        furnished  \n",
       "2              no              no        2      yes   semi-furnished  \n",
       "3              no             yes        3      yes        furnished  \n",
       "4              no             yes        2       no        furnished  \n",
       "5              no             yes        2      yes   semi-furnished  "
      ]
     },
     "execution_count": 57,
     "metadata": {},
     "output_type": "execute_result"
    }
   ],
   "source": [
    "df.info()\n",
    "df.head(6)\n"
   ]
  },
  {
   "cell_type": "code",
   "execution_count": 59,
   "id": "1c8855b5-7616-478a-b203-7fcb26a5582d",
   "metadata": {},
   "outputs": [
    {
     "name": "stdout",
     "output_type": "stream",
     "text": [
      "<class 'pandas.core.frame.DataFrame'>\n",
      "RangeIndex: 545 entries, 0 to 544\n",
      "Data columns (total 4 columns):\n",
      " #   Column     Non-Null Count  Dtype\n",
      "---  ------     --------------  -----\n",
      " 0   price      545 non-null    int64\n",
      " 1   area       545 non-null    int64\n",
      " 2   bedrooms   545 non-null    int64\n",
      " 3   bathrooms  545 non-null    int64\n",
      "dtypes: int64(4)\n",
      "memory usage: 17.2 KB\n"
     ]
    }
   ],
   "source": [
    "df= df.iloc[:,:4]\n",
    "df.info()"
   ]
  },
  {
   "cell_type": "code",
   "execution_count": 93,
   "id": "fe30d7a4-34d7-4685-9371-d6aa9cf86ed1",
   "metadata": {},
   "outputs": [
    {
     "name": "stdout",
     "output_type": "stream",
     "text": [
      "[[ 1.04672629  1.42181174  1.40341936]\n",
      " [ 1.75700953  5.40580863  1.40341936]\n",
      " [ 2.21823241  1.42181174  0.04727831]\n",
      " ...\n",
      " [-0.70592066 -0.57018671 -1.30886273]\n",
      " [-1.03338891 -0.57018671  0.04727831]\n",
      " [-0.5998394  -0.57018671  0.04727831]]\n"
     ]
    }
   ],
   "source": [
    "from sklearn.preprocessing import StandardScaler\n",
    "scaler = StandardScaler()\n",
    "X=df[[\"area\", \"bathrooms\", \"bedrooms\"]].to_numpy()\n",
    "y=df[\"price\"].to_numpy()\n",
    "Xs = scaler.fit_transform(X)\n",
    "print(Xs)"
   ]
  },
  {
   "cell_type": "code",
   "execution_count": 95,
   "id": "dc07ab7e-048b-4e39-b8c5-9bd9272ff697",
   "metadata": {},
   "outputs": [
    {
     "data": {
      "text/plain": [
       "(array([5.15054128e+03, 1.28623853e+00, 2.96513761e+00]),\n",
       " array([2.16814915e+03, 5.02008423e-01, 7.37386427e-01]))"
      ]
     },
     "execution_count": 95,
     "metadata": {},
     "output_type": "execute_result"
    }
   ],
   "source": [
    "scaler.mean_, scaler.scale_"
   ]
  },
  {
   "cell_type": "code",
   "execution_count": 97,
   "id": "2a0c5ac7-2470-4de1-af97-5edc641bdfea",
   "metadata": {},
   "outputs": [],
   "source": [
    "w = np.zeros(Xs.shape[1])"
   ]
  },
  {
   "cell_type": "code",
   "execution_count": 99,
   "id": "79e1e2b2-4f73-4b5c-9f43-6f930a08a477",
   "metadata": {},
   "outputs": [],
   "source": [
    "learn_rate = 0.01\n",
    "w = gradient_step(Xs, y, w, learn_rate)"
   ]
  },
  {
   "cell_type": "code",
   "execution_count": 101,
   "id": "d63f763d-7ec2-4679-9787-cf797b34667b",
   "metadata": {},
   "outputs": [],
   "source": [
    "predict_price = hypotes(Xs,w)"
   ]
  },
  {
   "cell_type": "code",
   "execution_count": 103,
   "id": "0827234c-9dfa-43a3-a5c1-beb3d27799b3",
   "metadata": {},
   "outputs": [
    {
     "name": "stdout",
     "output_type": "stream",
     "text": [
      "MSE one gradient step: 26166027517939.773\n"
     ]
    }
   ],
   "source": [
    "from sklearn.metrics import mean_squared_error, r2_score\n",
    "# MSE\n",
    "# mean_squared_error = np.sum((y - y_hat.T)**2) / len(y)\n",
    "\n",
    "# The mean squared error\n",
    "print(f\"MSE one gradient step: {mean_squared_error(y, predict_price)}\")"
   ]
  },
  {
   "cell_type": "code",
   "execution_count": 73,
   "id": "a8583a30-966e-45fc-89b4-2c9bb702a02e",
   "metadata": {},
   "outputs": [],
   "source": [
    "from sklearn.linear_model import LinearRegression\n",
    "model= LinearRegression().fit(Xs, y)"
   ]
  },
  {
   "cell_type": "code",
   "execution_count": 75,
   "id": "2c35e19b-606e-4547-bec0-aeb5019b881e",
   "metadata": {},
   "outputs": [
    {
     "data": {
      "text/plain": [
       "{'fit_intercept': True,\n",
       " 'copy_X': True,\n",
       " 'n_jobs': None,\n",
       " 'positive': False,\n",
       " 'n_features_in_': 3,\n",
       " 'coef_': array([821214.14349519, 695808.52272537, 299983.57107963]),\n",
       " 'rank_': 3,\n",
       " 'singular_': array([28.54332915, 21.92450924, 18.42808334]),\n",
       " 'intercept_': 4766729.247706422}"
      ]
     },
     "execution_count": 75,
     "metadata": {},
     "output_type": "execute_result"
    }
   ],
   "source": [
    "model.__dict__"
   ]
  },
  {
   "cell_type": "code",
   "execution_count": 89,
   "id": "3a921f99-6ee3-41e3-91d8-f40bdef50587",
   "metadata": {},
   "outputs": [
    {
     "name": "stdout",
     "output_type": "stream",
     "text": [
      "MSE sklearn: 1791170049977.3193\n"
     ]
    }
   ],
   "source": [
    "y_pred=model.predict(Xs)\n",
    "print(f\"MSE sklearn: {mean_squared_error(y, y_pred)}\")\n"
   ]
  },
  {
   "cell_type": "markdown",
   "id": "91d6d978-2b34-4759-9f20-58fde0a25ad9",
   "metadata": {},
   "source": [
    "Analytical method"
   ]
  },
  {
   "cell_type": "code",
   "execution_count": 107,
   "id": "c24197c3-f0bd-4308-91ee-e69a060ba00f",
   "metadata": {},
   "outputs": [
    {
     "name": "stdout",
     "output_type": "stream",
     "text": [
      "Parameters (w): [4766729.24770642  821214.14349519  695808.52272537  299983.57107963]\n"
     ]
    }
   ],
   "source": [
    "# Add a column with 1 for bias\n",
    "Xb_scaled = np.hstack((np.ones((Xs.shape[0], 1)), Xs))\n",
    "\n",
    "# Beregn den inverse av produktet av transponert Xb_scaled og Xb_scaled\n",
    "z = np.linalg.pinv(np.dot(Xb_scaled.T, Xb_scaled))\n",
    "\n",
    "# Beregn parameterne ved hjelp av normal-ligningen\n",
    "w_analytic = np.dot(z, np.dot(Xb_scaled.T, y))\n",
    "\n",
    "print(\"Parameters (w):\", w_analytic)"
   ]
  },
  {
   "cell_type": "code",
   "execution_count": 109,
   "id": "63ed53b0-52a0-4a05-baac-18c21c7699fb",
   "metadata": {},
   "outputs": [
    {
     "data": {
      "text/plain": [
       "array([[ 1.        ,  1.04672629,  1.42181174,  1.40341936],\n",
       "       [ 1.        ,  1.75700953,  5.40580863,  1.40341936],\n",
       "       [ 1.        ,  2.21823241,  1.42181174,  0.04727831],\n",
       "       ...,\n",
       "       [ 1.        , -0.70592066, -0.57018671, -1.30886273],\n",
       "       [ 1.        , -1.03338891, -0.57018671,  0.04727831],\n",
       "       [ 1.        , -0.5998394 , -0.57018671,  0.04727831]])"
      ]
     },
     "execution_count": 109,
     "metadata": {},
     "output_type": "execute_result"
    }
   ],
   "source": [
    "np.hstack((np.ones((Xs.shape[0], 1)), Xs))"
   ]
  },
  {
   "cell_type": "code",
   "execution_count": 111,
   "id": "9e69671a-ffca-416d-9525-8b000b1e7fd6",
   "metadata": {},
   "outputs": [
    {
     "data": {
      "text/plain": [
       "array([0., 0., 0., 0.])"
      ]
     },
     "execution_count": 111,
     "metadata": {},
     "output_type": "execute_result"
    }
   ],
   "source": [
    "np.zeros(Xb_scaled.shape[1])"
   ]
  },
  {
   "cell_type": "code",
   "execution_count": 113,
   "id": "eb37c80b-232d-43c7-a6a5-981013f237a5",
   "metadata": {},
   "outputs": [
    {
     "data": {
      "text/plain": [
       "array([[ 1.83486239e-03, -2.54238233e-19,  2.06461382e-18,\n",
       "        -1.57537740e-20],\n",
       "       [-2.54238233e-19,  1.92110484e-03, -3.06052072e-04,\n",
       "        -1.77293949e-04],\n",
       "       [ 2.06461382e-18, -3.06052072e-04,  2.18188122e-03,\n",
       "        -7.69394754e-04],\n",
       "       [-1.57537740e-20, -1.77293949e-04, -7.69394754e-04,\n",
       "         2.14948594e-03]])"
      ]
     },
     "execution_count": 113,
     "metadata": {},
     "output_type": "execute_result"
    }
   ],
   "source": [
    "np.linalg.inv(np.dot(Xb_scaled.T, Xb_scaled))"
   ]
  },
  {
   "cell_type": "code",
   "execution_count": 115,
   "id": "975f7852-7c9c-4e88-ba73-328437d80d80",
   "metadata": {},
   "outputs": [
    {
     "data": {
      "text/plain": [
       "array([4766729.24770642,  821214.14349519,  695808.52272537,\n",
       "        299983.57107963])"
      ]
     },
     "execution_count": 115,
     "metadata": {},
     "output_type": "execute_result"
    }
   ],
   "source": [
    "np.dot(z, np.dot(Xb_scaled.T, y))"
   ]
  },
  {
   "cell_type": "code",
   "execution_count": 121,
   "id": "5a4a4068-9768-49c0-9dee-35f4e6219fd6",
   "metadata": {},
   "outputs": [],
   "source": [
    "\n",
    "def hypotes1(X,w):\n",
    "    return np.dot(X,w[1:])\n",
    "\n",
    "predict_price = hypotes1(Xs, w_analytic)"
   ]
  },
  {
   "cell_type": "code",
   "execution_count": 125,
   "id": "2b87ab33-d837-4b85-af6a-3827f6a65a92",
   "metadata": {},
   "outputs": [
    {
     "name": "stdout",
     "output_type": "stream",
     "text": [
      "24512877770917.152\n"
     ]
    }
   ],
   "source": [
    "print(mean_squared_error(y, predict_price))"
   ]
  }
 ],
 "metadata": {
  "kernelspec": {
   "display_name": "Python 3 (ipykernel)",
   "language": "python",
   "name": "python3"
  },
  "language_info": {
   "codemirror_mode": {
    "name": "ipython",
    "version": 3
   },
   "file_extension": ".py",
   "mimetype": "text/x-python",
   "name": "python",
   "nbconvert_exporter": "python",
   "pygments_lexer": "ipython3",
   "version": "3.12.4"
  }
 },
 "nbformat": 4,
 "nbformat_minor": 5
}
